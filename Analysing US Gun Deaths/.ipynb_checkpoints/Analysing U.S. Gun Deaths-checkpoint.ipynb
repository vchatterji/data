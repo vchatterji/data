{
 "cells": [
  {
   "cell_type": "markdown",
   "metadata": {
    "collapsed": true
   },
   "source": [
    "# Analysing Gun Deaths\n",
    "\n",
    "In this project we will be analysing gun deaths in the U.S.\n",
    "\n",
    "The dataset came from [FiveThirtyEight](https://www.fivethirtyeight.com/), and can be found [here](https://github.com/fivethirtyeight/guns-data). The dataset is stored in the **`guns.csv`** file. It contains information on gun deaths in the US from **`2012`** to **`2014`**. Each row in the dataset represents a single fatality. The columns contain demographic and other information about the victim. \n",
    "\n",
    "This analysis is part of an assigment project at [Dataquest.io](http://www.dataquest.io)\n",
    "\n",
    "# Objective\n",
    "\n",
    "In this project, we'll explore the dataset, and try to find patterns in the demographics of the victims. Our first step is to read the data in and take a look at it."
   ]
  },
  {
   "cell_type": "code",
   "execution_count": 112,
   "metadata": {
    "collapsed": false
   },
   "outputs": [],
   "source": [
    "# Load libraries\n",
    "import numpy as np\n",
    "import pandas as pd\n",
    "import matplotlib.pyplot as plt\n",
    "%matplotlib inline\n",
    "import seaborn"
   ]
  },
  {
   "cell_type": "code",
   "execution_count": 113,
   "metadata": {
    "collapsed": false
   },
   "outputs": [
    {
     "data": {
      "text/html": [
       "<div>\n",
       "<table border=\"1\" class=\"dataframe\">\n",
       "  <thead>\n",
       "    <tr style=\"text-align: right;\">\n",
       "      <th></th>\n",
       "      <th>Unnamed: 0</th>\n",
       "      <th>year</th>\n",
       "      <th>month</th>\n",
       "      <th>intent</th>\n",
       "      <th>police</th>\n",
       "      <th>sex</th>\n",
       "      <th>age</th>\n",
       "      <th>race</th>\n",
       "      <th>hispanic</th>\n",
       "      <th>place</th>\n",
       "      <th>education</th>\n",
       "    </tr>\n",
       "  </thead>\n",
       "  <tbody>\n",
       "    <tr>\n",
       "      <th>0</th>\n",
       "      <td>1</td>\n",
       "      <td>2012</td>\n",
       "      <td>1</td>\n",
       "      <td>Suicide</td>\n",
       "      <td>0</td>\n",
       "      <td>M</td>\n",
       "      <td>34.0</td>\n",
       "      <td>Asian/Pacific Islander</td>\n",
       "      <td>100</td>\n",
       "      <td>Home</td>\n",
       "      <td>4.0</td>\n",
       "    </tr>\n",
       "    <tr>\n",
       "      <th>1</th>\n",
       "      <td>2</td>\n",
       "      <td>2012</td>\n",
       "      <td>1</td>\n",
       "      <td>Suicide</td>\n",
       "      <td>0</td>\n",
       "      <td>F</td>\n",
       "      <td>21.0</td>\n",
       "      <td>White</td>\n",
       "      <td>100</td>\n",
       "      <td>Street</td>\n",
       "      <td>3.0</td>\n",
       "    </tr>\n",
       "    <tr>\n",
       "      <th>2</th>\n",
       "      <td>3</td>\n",
       "      <td>2012</td>\n",
       "      <td>1</td>\n",
       "      <td>Suicide</td>\n",
       "      <td>0</td>\n",
       "      <td>M</td>\n",
       "      <td>60.0</td>\n",
       "      <td>White</td>\n",
       "      <td>100</td>\n",
       "      <td>Other specified</td>\n",
       "      <td>4.0</td>\n",
       "    </tr>\n",
       "    <tr>\n",
       "      <th>3</th>\n",
       "      <td>4</td>\n",
       "      <td>2012</td>\n",
       "      <td>2</td>\n",
       "      <td>Suicide</td>\n",
       "      <td>0</td>\n",
       "      <td>M</td>\n",
       "      <td>64.0</td>\n",
       "      <td>White</td>\n",
       "      <td>100</td>\n",
       "      <td>Home</td>\n",
       "      <td>4.0</td>\n",
       "    </tr>\n",
       "    <tr>\n",
       "      <th>4</th>\n",
       "      <td>5</td>\n",
       "      <td>2012</td>\n",
       "      <td>2</td>\n",
       "      <td>Suicide</td>\n",
       "      <td>0</td>\n",
       "      <td>M</td>\n",
       "      <td>31.0</td>\n",
       "      <td>White</td>\n",
       "      <td>100</td>\n",
       "      <td>Other specified</td>\n",
       "      <td>2.0</td>\n",
       "    </tr>\n",
       "  </tbody>\n",
       "</table>\n",
       "</div>"
      ],
      "text/plain": [
       "   Unnamed: 0  year  month   intent  police sex   age                    race  \\\n",
       "0           1  2012      1  Suicide       0   M  34.0  Asian/Pacific Islander   \n",
       "1           2  2012      1  Suicide       0   F  21.0                   White   \n",
       "2           3  2012      1  Suicide       0   M  60.0                   White   \n",
       "3           4  2012      2  Suicide       0   M  64.0                   White   \n",
       "4           5  2012      2  Suicide       0   M  31.0                   White   \n",
       "\n",
       "   hispanic            place  education  \n",
       "0       100             Home        4.0  \n",
       "1       100           Street        3.0  \n",
       "2       100  Other specified        4.0  \n",
       "3       100             Home        4.0  \n",
       "4       100  Other specified        2.0  "
      ]
     },
     "execution_count": 113,
     "metadata": {},
     "output_type": "execute_result"
    }
   ],
   "source": [
    "data = pd.read_csv(\"guns.csv\")\n",
    "data.head()"
   ]
  },
  {
   "cell_type": "markdown",
   "metadata": {},
   "source": [
    "As we can see above, the first row of the data is a header row, which tells you what kind of data is in each column of the CSV file. Each row contains information about the fatality, and the victim. Here's an explanation of each column:\n",
    "\n",
    "- **`Unnamed: 0`** - this is an identifier column, which contains the row number. It's common in CSV files to include a unique identifier for each row, but we can ignore it in this analysis.\n",
    "\n",
    "- **`year`** - the year in which the fatality occurred.\n",
    "\n",
    "- **`month`** - the month in which the fatality occurred.\n",
    "\n",
    "- **`intent`** - the intent of the perpetrator of the crime. This can be **`Suicide`**, **`Accidental`**, **`NA`**, **`Homicide`**, or **`Undetermined`**.\n",
    "\n",
    "- **`police`** - whether a police officer was involved with the shooting. Either **`0`** (false) or **`1`** (true).\n",
    "\n",
    "- **`sex`** - the gender of the victim. Either **`M`** or **`F`**.\n",
    "\n",
    "- **`race`** - he race of the victim. Either **`Asian/Pacific Islander`**, **`Native American/Native Alaskan`**, **`Black`**, **`Hispanic`**, or **`White`**.\n",
    "\n",
    "- **`hispanic`** - a code indicating the Hispanic origin of the victim.\n",
    "\n",
    "- **`place`** - where the shooting occurred.\n",
    "\n",
    "- **`education`** - educational status of the victim. Can be one of the following:\n",
    "       - 1 - Less than High School\n",
    "       - 2 - Graduated from High School or equivalent\n",
    "       - 3 - Some College\n",
    "       - 4 - At least graduated from College\n",
    "       - 5 - Not available"
   ]
  },
  {
   "cell_type": "code",
   "execution_count": 114,
   "metadata": {
    "collapsed": false
   },
   "outputs": [
    {
     "data": {
      "text/html": [
       "<div>\n",
       "<table border=\"1\" class=\"dataframe\">\n",
       "  <thead>\n",
       "    <tr style=\"text-align: right;\">\n",
       "      <th></th>\n",
       "      <th>year</th>\n",
       "      <th>month</th>\n",
       "      <th>intent</th>\n",
       "      <th>police</th>\n",
       "      <th>sex</th>\n",
       "      <th>age</th>\n",
       "      <th>race</th>\n",
       "      <th>hispanic</th>\n",
       "      <th>place</th>\n",
       "      <th>education</th>\n",
       "    </tr>\n",
       "  </thead>\n",
       "  <tbody>\n",
       "    <tr>\n",
       "      <th>0</th>\n",
       "      <td>2012</td>\n",
       "      <td>1</td>\n",
       "      <td>Suicide</td>\n",
       "      <td>0</td>\n",
       "      <td>M</td>\n",
       "      <td>34.0</td>\n",
       "      <td>Asian/Pacific Islander</td>\n",
       "      <td>100</td>\n",
       "      <td>Home</td>\n",
       "      <td>4</td>\n",
       "    </tr>\n",
       "    <tr>\n",
       "      <th>1</th>\n",
       "      <td>2012</td>\n",
       "      <td>1</td>\n",
       "      <td>Suicide</td>\n",
       "      <td>0</td>\n",
       "      <td>F</td>\n",
       "      <td>21.0</td>\n",
       "      <td>White</td>\n",
       "      <td>100</td>\n",
       "      <td>Street</td>\n",
       "      <td>3</td>\n",
       "    </tr>\n",
       "    <tr>\n",
       "      <th>2</th>\n",
       "      <td>2012</td>\n",
       "      <td>1</td>\n",
       "      <td>Suicide</td>\n",
       "      <td>0</td>\n",
       "      <td>M</td>\n",
       "      <td>60.0</td>\n",
       "      <td>White</td>\n",
       "      <td>100</td>\n",
       "      <td>Other specified</td>\n",
       "      <td>4</td>\n",
       "    </tr>\n",
       "    <tr>\n",
       "      <th>3</th>\n",
       "      <td>2012</td>\n",
       "      <td>2</td>\n",
       "      <td>Suicide</td>\n",
       "      <td>0</td>\n",
       "      <td>M</td>\n",
       "      <td>64.0</td>\n",
       "      <td>White</td>\n",
       "      <td>100</td>\n",
       "      <td>Home</td>\n",
       "      <td>4</td>\n",
       "    </tr>\n",
       "    <tr>\n",
       "      <th>4</th>\n",
       "      <td>2012</td>\n",
       "      <td>2</td>\n",
       "      <td>Suicide</td>\n",
       "      <td>0</td>\n",
       "      <td>M</td>\n",
       "      <td>31.0</td>\n",
       "      <td>White</td>\n",
       "      <td>100</td>\n",
       "      <td>Other specified</td>\n",
       "      <td>2</td>\n",
       "    </tr>\n",
       "  </tbody>\n",
       "</table>\n",
       "</div>"
      ],
      "text/plain": [
       "   year  month   intent  police sex   age                    race  hispanic  \\\n",
       "0  2012      1  Suicide       0   M  34.0  Asian/Pacific Islander       100   \n",
       "1  2012      1  Suicide       0   F  21.0                   White       100   \n",
       "2  2012      1  Suicide       0   M  60.0                   White       100   \n",
       "3  2012      2  Suicide       0   M  64.0                   White       100   \n",
       "4  2012      2  Suicide       0   M  31.0                   White       100   \n",
       "\n",
       "             place  education  \n",
       "0             Home          4  \n",
       "1           Street          3  \n",
       "2  Other specified          4  \n",
       "3             Home          4  \n",
       "4  Other specified          2  "
      ]
     },
     "execution_count": 114,
     "metadata": {},
     "output_type": "execute_result"
    }
   ],
   "source": [
    "# We can drop the 'Unnamed: 0' column\n",
    "cleaned_data = data.drop(\"Unnamed: 0\", axis=1)\n",
    "cleaned_data = cleaned_data.dropna()\n",
    "cleaned_data[\"education\"] = cleaned_data[\"education\"].astype(int)\n",
    "cleaned_data.head()"
   ]
  },
  {
   "cell_type": "markdown",
   "metadata": {},
   "source": [
    "How many Gun Deaths occurred by year?"
   ]
  },
  {
   "cell_type": "code",
   "execution_count": 115,
   "metadata": {
    "collapsed": false
   },
   "outputs": [
    {
     "data": {
      "text/html": [
       "<div>\n",
       "<table border=\"1\" class=\"dataframe\">\n",
       "  <thead>\n",
       "    <tr style=\"text-align: right;\">\n",
       "      <th></th>\n",
       "      <th>count</th>\n",
       "    </tr>\n",
       "    <tr>\n",
       "      <th>year</th>\n",
       "      <th></th>\n",
       "    </tr>\n",
       "  </thead>\n",
       "  <tbody>\n",
       "    <tr>\n",
       "      <th>2012</th>\n",
       "      <td>33072</td>\n",
       "    </tr>\n",
       "    <tr>\n",
       "      <th>2013</th>\n",
       "      <td>33146</td>\n",
       "    </tr>\n",
       "    <tr>\n",
       "      <th>2014</th>\n",
       "      <td>33125</td>\n",
       "    </tr>\n",
       "  </tbody>\n",
       "</table>\n",
       "</div>"
      ],
      "text/plain": [
       "      count\n",
       "year       \n",
       "2012  33072\n",
       "2013  33146\n",
       "2014  33125"
      ]
     },
     "execution_count": 115,
     "metadata": {},
     "output_type": "execute_result"
    }
   ],
   "source": [
    "df_yearly = cleaned_data.groupby(\"year\").agg({\n",
    "        \"year\": 'count'\n",
    "    })\n",
    "df_yearly.columns = [\"count\"]\n",
    "df_yearly.head(20)"
   ]
  },
  {
   "cell_type": "markdown",
   "metadata": {},
   "source": [
    "We can see that about 33,100 death occured in each year.\n",
    "\n",
    "Do more deaths happen in a certain month of the year?"
   ]
  },
  {
   "cell_type": "code",
   "execution_count": 116,
   "metadata": {
    "collapsed": false
   },
   "outputs": [
    {
     "data": {
      "text/html": [
       "<div>\n",
       "<table border=\"1\" class=\"dataframe\">\n",
       "  <thead>\n",
       "    <tr style=\"text-align: right;\">\n",
       "      <th></th>\n",
       "      <th></th>\n",
       "      <th>count</th>\n",
       "    </tr>\n",
       "    <tr>\n",
       "      <th>year</th>\n",
       "      <th>month</th>\n",
       "      <th></th>\n",
       "    </tr>\n",
       "  </thead>\n",
       "  <tbody>\n",
       "    <tr>\n",
       "      <th rowspan=\"12\" valign=\"top\">2012</th>\n",
       "      <th>1</th>\n",
       "      <td>2720</td>\n",
       "    </tr>\n",
       "    <tr>\n",
       "      <th>2</th>\n",
       "      <td>2321</td>\n",
       "    </tr>\n",
       "    <tr>\n",
       "      <th>3</th>\n",
       "      <td>2703</td>\n",
       "    </tr>\n",
       "    <tr>\n",
       "      <th>4</th>\n",
       "      <td>2759</td>\n",
       "    </tr>\n",
       "    <tr>\n",
       "      <th>5</th>\n",
       "      <td>2967</td>\n",
       "    </tr>\n",
       "    <tr>\n",
       "      <th>6</th>\n",
       "      <td>2775</td>\n",
       "    </tr>\n",
       "    <tr>\n",
       "      <th>7</th>\n",
       "      <td>2965</td>\n",
       "    </tr>\n",
       "    <tr>\n",
       "      <th>8</th>\n",
       "      <td>2909</td>\n",
       "    </tr>\n",
       "    <tr>\n",
       "      <th>9</th>\n",
       "      <td>2812</td>\n",
       "    </tr>\n",
       "    <tr>\n",
       "      <th>10</th>\n",
       "      <td>2701</td>\n",
       "    </tr>\n",
       "    <tr>\n",
       "      <th>11</th>\n",
       "      <td>2689</td>\n",
       "    </tr>\n",
       "    <tr>\n",
       "      <th>12</th>\n",
       "      <td>2751</td>\n",
       "    </tr>\n",
       "    <tr>\n",
       "      <th rowspan=\"12\" valign=\"top\">2013</th>\n",
       "      <th>1</th>\n",
       "      <td>2816</td>\n",
       "    </tr>\n",
       "    <tr>\n",
       "      <th>2</th>\n",
       "      <td>2347</td>\n",
       "    </tr>\n",
       "    <tr>\n",
       "      <th>3</th>\n",
       "      <td>2820</td>\n",
       "    </tr>\n",
       "    <tr>\n",
       "      <th>4</th>\n",
       "      <td>2754</td>\n",
       "    </tr>\n",
       "    <tr>\n",
       "      <th>5</th>\n",
       "      <td>2755</td>\n",
       "    </tr>\n",
       "    <tr>\n",
       "      <th>6</th>\n",
       "      <td>2876</td>\n",
       "    </tr>\n",
       "    <tr>\n",
       "      <th>7</th>\n",
       "      <td>3041</td>\n",
       "    </tr>\n",
       "    <tr>\n",
       "      <th>8</th>\n",
       "      <td>2816</td>\n",
       "    </tr>\n",
       "    <tr>\n",
       "      <th>9</th>\n",
       "      <td>2705</td>\n",
       "    </tr>\n",
       "    <tr>\n",
       "      <th>10</th>\n",
       "      <td>2762</td>\n",
       "    </tr>\n",
       "    <tr>\n",
       "      <th>11</th>\n",
       "      <td>2722</td>\n",
       "    </tr>\n",
       "    <tr>\n",
       "      <th>12</th>\n",
       "      <td>2732</td>\n",
       "    </tr>\n",
       "    <tr>\n",
       "      <th rowspan=\"12\" valign=\"top\">2014</th>\n",
       "      <th>1</th>\n",
       "      <td>2617</td>\n",
       "    </tr>\n",
       "    <tr>\n",
       "      <th>2</th>\n",
       "      <td>2338</td>\n",
       "    </tr>\n",
       "    <tr>\n",
       "      <th>3</th>\n",
       "      <td>2644</td>\n",
       "    </tr>\n",
       "    <tr>\n",
       "      <th>4</th>\n",
       "      <td>2815</td>\n",
       "    </tr>\n",
       "    <tr>\n",
       "      <th>5</th>\n",
       "      <td>2816</td>\n",
       "    </tr>\n",
       "    <tr>\n",
       "      <th>6</th>\n",
       "      <td>2881</td>\n",
       "    </tr>\n",
       "    <tr>\n",
       "      <th>7</th>\n",
       "      <td>2841</td>\n",
       "    </tr>\n",
       "    <tr>\n",
       "      <th>8</th>\n",
       "      <td>2918</td>\n",
       "    </tr>\n",
       "    <tr>\n",
       "      <th>9</th>\n",
       "      <td>2881</td>\n",
       "    </tr>\n",
       "    <tr>\n",
       "      <th>10</th>\n",
       "      <td>2833</td>\n",
       "    </tr>\n",
       "    <tr>\n",
       "      <th>11</th>\n",
       "      <td>2719</td>\n",
       "    </tr>\n",
       "    <tr>\n",
       "      <th>12</th>\n",
       "      <td>2822</td>\n",
       "    </tr>\n",
       "  </tbody>\n",
       "</table>\n",
       "</div>"
      ],
      "text/plain": [
       "            count\n",
       "year month       \n",
       "2012 1       2720\n",
       "     2       2321\n",
       "     3       2703\n",
       "     4       2759\n",
       "     5       2967\n",
       "     6       2775\n",
       "     7       2965\n",
       "     8       2909\n",
       "     9       2812\n",
       "     10      2701\n",
       "     11      2689\n",
       "     12      2751\n",
       "2013 1       2816\n",
       "     2       2347\n",
       "     3       2820\n",
       "     4       2754\n",
       "     5       2755\n",
       "     6       2876\n",
       "     7       3041\n",
       "     8       2816\n",
       "     9       2705\n",
       "     10      2762\n",
       "     11      2722\n",
       "     12      2732\n",
       "2014 1       2617\n",
       "     2       2338\n",
       "     3       2644\n",
       "     4       2815\n",
       "     5       2816\n",
       "     6       2881\n",
       "     7       2841\n",
       "     8       2918\n",
       "     9       2881\n",
       "     10      2833\n",
       "     11      2719\n",
       "     12      2822"
      ]
     },
     "execution_count": 116,
     "metadata": {},
     "output_type": "execute_result"
    }
   ],
   "source": [
    "# Group data by year and month to visualise\n",
    "df_monthly = cleaned_data.groupby([\"year\", \"month\"]).agg({\n",
    "        \"year\": 'count'\n",
    "    })\n",
    "df_monthly.columns = ['count']\n",
    "df_monthly"
   ]
  },
  {
   "cell_type": "code",
   "execution_count": 117,
   "metadata": {
    "collapsed": false
   },
   "outputs": [
    {
     "data": {
      "image/png": "[encoded data removed]",
      "text/plain": [
       "<matplotlib.figure.Figure at 0x11cca9f98>"
      ]
     },
     "metadata": {},
     "output_type": "display_data"
    }
   ],
   "source": [
    "# Let' visualise the table above:\n",
    "years = cleaned_data[\"year\"].unique()\n",
    "fig = plt.figure(figsize=(12, 10))\n",
    "\n",
    "# Month labels\n",
    "month_labels = [\"Jan\", \"Feb\", \"Mar\", \"Apr\", \"May\", \"Jun\", \"Jul\", \"Aug\", \"Sep\", \"Oct\", \"Nov\", \"Dec\"]\n",
    "\n",
    "# Subplots for each year\n",
    "for i, year in enumerate(years):\n",
    "    df_year = df_monthly.loc[year, :]\n",
    "    ax = fig.add_subplot(2, round(len(years)/2), i+1)\n",
    "    ax.bar(list(df_year.index), df_year[\"count\"], align='center')\n",
    "    ax.set_xticks(range(1, 13))\n",
    "    ax.set_xticklabels(month_labels, rotation=90)\n",
    "    ax.set_xlim(0, 13)\n",
    "    ax.set_ylim(0, 3500)\n",
    "    ax.set_title(\"U.S. Gun Deaths ({})\".format(year))\n",
    "\n",
    "df_monthly_all = cleaned_data.groupby(\"month\").agg({\n",
    "        \"year\": 'count'\n",
    "    })\n",
    "df_monthly_all.columns = ['count']\n",
    "\n",
    "# Sub-plot for all years\n",
    "ax = fig.add_subplot(2, round(len(years)/2), i+2)\n",
    "ax.bar(list(df_monthly_all.index), df_monthly_all[\"count\"], align='center')\n",
    "ax.set_xticks(range(1, 13))\n",
    "ax.set_xticklabels(month_labels, rotation=90)\n",
    "ax.set_xlim(0, 13)\n",
    "ax.set_ylim(0, 10000)\n",
    "ax.set_title(\"U.S. Gun Deaths ({} - {})\".format(min(years), max(years)))\n",
    "    \n",
    "plt.show()"
   ]
  },
  {
   "cell_type": "markdown",
   "metadata": {},
   "source": [
    "Apart from February when Gun Deaths are lower, in most other months Gun Deaths vary between 2500 and 3000 deaths.\n",
    "\n",
    "Let us next examine Gun Deaths by race and sex."
   ]
  },
  {
   "cell_type": "code",
   "execution_count": 118,
   "metadata": {
    "collapsed": false
   },
   "outputs": [
    {
     "data": {
      "text/plain": [
       "['Asian/Pacific Islander',\n",
       " 'Black',\n",
       " 'Hispanic',\n",
       " 'Native American/Native Alaskan',\n",
       " 'White']"
      ]
     },
     "execution_count": 118,
     "metadata": {},
     "output_type": "execute_result"
    }
   ],
   "source": [
    "# Looking at unique race values in the data set\n",
    "unique_race = sorted(cleaned_data[\"race\"].unique())\n",
    "unique_race"
   ]
  },
  {
   "cell_type": "code",
   "execution_count": 119,
   "metadata": {
    "collapsed": false
   },
   "outputs": [
    {
     "data": {
      "text/html": [
       "<div>\n",
       "<table border=\"1\" class=\"dataframe\">\n",
       "  <thead>\n",
       "    <tr style=\"text-align: right;\">\n",
       "      <th></th>\n",
       "      <th></th>\n",
       "      <th>count</th>\n",
       "    </tr>\n",
       "    <tr>\n",
       "      <th>race</th>\n",
       "      <th>sex</th>\n",
       "      <th></th>\n",
       "    </tr>\n",
       "  </thead>\n",
       "  <tbody>\n",
       "    <tr>\n",
       "      <th rowspan=\"2\" valign=\"top\">Asian/Pacific Islander</th>\n",
       "      <th>F</th>\n",
       "      <td>242</td>\n",
       "    </tr>\n",
       "    <tr>\n",
       "      <th>M</th>\n",
       "      <td>1052</td>\n",
       "    </tr>\n",
       "    <tr>\n",
       "      <th rowspan=\"2\" valign=\"top\">Black</th>\n",
       "      <th>F</th>\n",
       "      <td>2294</td>\n",
       "    </tr>\n",
       "    <tr>\n",
       "      <th>M</th>\n",
       "      <td>20628</td>\n",
       "    </tr>\n",
       "    <tr>\n",
       "      <th rowspan=\"2\" valign=\"top\">Hispanic</th>\n",
       "      <th>F</th>\n",
       "      <td>1062</td>\n",
       "    </tr>\n",
       "    <tr>\n",
       "      <th>M</th>\n",
       "      <td>7672</td>\n",
       "    </tr>\n",
       "    <tr>\n",
       "      <th rowspan=\"2\" valign=\"top\">Native American/Native Alaskan</th>\n",
       "      <th>F</th>\n",
       "      <td>125</td>\n",
       "    </tr>\n",
       "    <tr>\n",
       "      <th>M</th>\n",
       "      <td>764</td>\n",
       "    </tr>\n",
       "    <tr>\n",
       "      <th rowspan=\"2\" valign=\"top\">White</th>\n",
       "      <th>F</th>\n",
       "      <td>10641</td>\n",
       "    </tr>\n",
       "    <tr>\n",
       "      <th>M</th>\n",
       "      <td>54863</td>\n",
       "    </tr>\n",
       "  </tbody>\n",
       "</table>\n",
       "</div>"
      ],
      "text/plain": [
       "                                    count\n",
       "race                           sex       \n",
       "Asian/Pacific Islander         F      242\n",
       "                               M     1052\n",
       "Black                          F     2294\n",
       "                               M    20628\n",
       "Hispanic                       F     1062\n",
       "                               M     7672\n",
       "Native American/Native Alaskan F      125\n",
       "                               M      764\n",
       "White                          F    10641\n",
       "                               M    54863"
      ]
     },
     "execution_count": 119,
     "metadata": {},
     "output_type": "execute_result"
    }
   ],
   "source": [
    "df_sex_race = cleaned_data.groupby([\"race\", \"sex\"]).agg({\"race\": \"count\"})\n",
    "df_sex_race.columns = [\"count\"]\n",
    "df_sex_race"
   ]
  },
  {
   "cell_type": "code",
   "execution_count": 120,
   "metadata": {
    "collapsed": false
   },
   "outputs": [
    {
     "data": {
      "image/png": "[encoded data removed]",
      "text/plain": [
       "<matplotlib.figure.Figure at 0x116d6dc18>"
      ]
     },
     "metadata": {},
     "output_type": "display_data"
    }
   ],
   "source": [
    "# Let's visualise the table above\n",
    "multi_index = list(df_sex_race.index)\n",
    "female_counts = []\n",
    "male_counts = []\n",
    "for i, race in enumerate(unique_race):\n",
    "    female_counts.append(df_sex_race.loc[race, \"F\"].values[0])\n",
    "    male_counts.append(df_sex_race.loc[race, \"M\"].values[0])\n",
    "\n",
    "x_vals = pd.Series(range(0, len(unique_race)))\n",
    "bar_width = 0.35\n",
    "\n",
    "fig, ax = plt.subplots()\n",
    "rects1 = ax.bar(x_vals, male_counts, bar_width)\n",
    "rects2 = ax.bar(x_vals + bar_width, female_counts, bar_width, color='pink')\n",
    "ax.set_xlim(0, 4.8)\n",
    "ax.set_xticks(x_vals + bar_width)\n",
    "ax.set_title(\"U.S. Gun Deaths by Race ({}-{})\".format(min(years), max(years)))\n",
    "ax.set_xticklabels(['Asian', 'Black', 'Hispanic', 'Native Amer.', 'White'], rotation=0)\n",
    "ax.legend((rects1[0], rects2[0]), ('Men', 'Women'), loc='upper left')\n",
    "plt.show()"
   ]
  },
  {
   "cell_type": "markdown",
   "metadata": {},
   "source": [
    "From the above graph, it is difficult to visualize deaths in terms of absolute numbers. This is because if the population for a particular race is itself low, then the number of deaths will also be low.\n",
    "\n",
    "To normalise this, we must get deaths per **`100,000`** people from each race.\n",
    "\n",
    "For this, we read the second data-set."
   ]
  },
  {
   "cell_type": "code",
   "execution_count": 121,
   "metadata": {
    "collapsed": false
   },
   "outputs": [
    {
     "data": {
      "text/html": [
       "<div>\n",
       "<table border=\"1\" class=\"dataframe\">\n",
       "  <thead>\n",
       "    <tr style=\"text-align: right;\">\n",
       "      <th></th>\n",
       "      <th>Id</th>\n",
       "      <th>Year</th>\n",
       "      <th>Id.1</th>\n",
       "      <th>Sex</th>\n",
       "      <th>Id.2</th>\n",
       "      <th>Hispanic Origin</th>\n",
       "      <th>Id.3</th>\n",
       "      <th>Id2</th>\n",
       "      <th>Geography</th>\n",
       "      <th>Total</th>\n",
       "      <th>Race Alone - White</th>\n",
       "      <th>Race Alone - Hispanic</th>\n",
       "      <th>Race Alone - Black or African American</th>\n",
       "      <th>Race Alone - American Indian and Alaska Native</th>\n",
       "      <th>Race Alone - Asian</th>\n",
       "      <th>Race Alone - Native Hawaiian and Other Pacific Islander</th>\n",
       "      <th>Two or More Races</th>\n",
       "    </tr>\n",
       "  </thead>\n",
       "  <tbody>\n",
       "    <tr>\n",
       "      <th>0</th>\n",
       "      <td>cen42010</td>\n",
       "      <td>April 1, 2010 Census</td>\n",
       "      <td>totsex</td>\n",
       "      <td>Both Sexes</td>\n",
       "      <td>tothisp</td>\n",
       "      <td>Total</td>\n",
       "      <td>0100000US</td>\n",
       "      <td>NaN</td>\n",
       "      <td>United States</td>\n",
       "      <td>308745538</td>\n",
       "      <td>197318956</td>\n",
       "      <td>44618105</td>\n",
       "      <td>40250635</td>\n",
       "      <td>3739506</td>\n",
       "      <td>15159516</td>\n",
       "      <td>674625</td>\n",
       "      <td>6984195</td>\n",
       "    </tr>\n",
       "  </tbody>\n",
       "</table>\n",
       "</div>"
      ],
      "text/plain": [
       "         Id                  Year    Id.1         Sex     Id.2  \\\n",
       "0  cen42010  April 1, 2010 Census  totsex  Both Sexes  tothisp   \n",
       "\n",
       "  Hispanic Origin       Id.3  Id2      Geography      Total  \\\n",
       "0           Total  0100000US  NaN  United States  308745538   \n",
       "\n",
       "   Race Alone - White  Race Alone - Hispanic  \\\n",
       "0           197318956               44618105   \n",
       "\n",
       "   Race Alone - Black or African American  \\\n",
       "0                                40250635   \n",
       "\n",
       "   Race Alone - American Indian and Alaska Native  Race Alone - Asian  \\\n",
       "0                                         3739506            15159516   \n",
       "\n",
       "   Race Alone - Native Hawaiian and Other Pacific Islander  Two or More Races  \n",
       "0                                             674625                  6984195  "
      ]
     },
     "execution_count": 121,
     "metadata": {},
     "output_type": "execute_result"
    }
   ],
   "source": [
    "census = pd.read_csv(\"census.csv\")\n",
    "census.head()"
   ]
  },
  {
   "cell_type": "markdown",
   "metadata": {},
   "source": [
    "From the table above we can calculate the population of the various races, so that we can normalise:\n",
    "\n",
    "- **Asian/Pacific Islander** --> Race Alone - Asian **+** Race Alone Native Hawaiian and Other Pacific Islander.\n",
    "- **Black** --> Race Alone - Black or African American.\n",
    "- **Hispanic** --> Race Alone - Hispanic\n",
    "- **Native American/Native Alaskan** --> Race Alone - American Indian and Alaska Native\n",
    "- **White** --> Race Alone - White"
   ]
  },
  {
   "cell_type": "code",
   "execution_count": 122,
   "metadata": {
    "collapsed": false
   },
   "outputs": [
    {
     "data": {
      "text/plain": [
       "[15834141, 40250635, 44618105, 3739506, 197318956]"
      ]
     },
     "execution_count": 122,
     "metadata": {},
     "output_type": "execute_result"
    }
   ],
   "source": [
    "race_counts = []\n",
    "asian_count = list(census[\"Race Alone - Asian\"] + census[\"Race Alone - Native Hawaiian and Other Pacific Islander\"])[0]\n",
    "race_counts.append(asian_count)\n",
    "black_count = list(census[\"Race Alone - Black or African American\"])[0]\n",
    "race_counts.append(black_count)\n",
    "hispanic_count = list(census[\"Race Alone - Hispanic\"])[0]\n",
    "race_counts.append(hispanic_count)\n",
    "native_count = list(census[\"Race Alone - American Indian and Alaska Native\"])[0]\n",
    "race_counts.append(native_count)\n",
    "white_count = list(census[\"Race Alone - White\"])[0]\n",
    "race_counts.append(white_count)\n",
    "race_counts"
   ]
  },
  {
   "cell_type": "code",
   "execution_count": 124,
   "metadata": {
    "collapsed": false
   },
   "outputs": [
    {
     "data": {
      "image/png": "[encoded data removed]",
      "text/plain": [
       "<matplotlib.figure.Figure at 0x118ebc1d0>"
      ]
     },
     "metadata": {},
     "output_type": "display_data"
    }
   ],
   "source": [
    "female_counts_norm = list(pd.Series(female_counts) * 100000 / pd.Series(race_counts))\n",
    "male_counts_norm = list(pd.Series(male_counts) * 100000 / pd.Series(race_counts))\n",
    "\n",
    "fig, ax = plt.subplots()\n",
    "rects1 = ax.bar(x_vals, male_counts_norm, bar_width)\n",
    "rects2 = ax.bar(x_vals + bar_width, female_counts_norm, bar_width, color='pink')\n",
    "ax.set_xlim(0, 4.8)\n",
    "ax.set_xticks(x_vals + bar_width)\n",
    "ax.set_title(\"U.S. Gun Deaths by Race ({}-{})\".format(min(years), max(years)))\n",
    "ax.set_xticklabels(['Asian', 'Black', 'Hispanic', 'Native Amer.', 'White'], rotation=0)\n",
    "ax.legend((rects1[0], rects2[0]), ('Men', 'Women'), loc='upper right')\n",
    "ax.set_ylabel(\"Deaths / 100,000 persons\")\n",
    "plt.show()"
   ]
  },
  {
   "cell_type": "markdown",
   "metadata": {},
   "source": [
    "Let us next look at homicide deaths only:"
   ]
  },
  {
   "cell_type": "code",
   "execution_count": 125,
   "metadata": {
    "collapsed": false
   },
   "outputs": [
    {
     "data": {
      "text/html": [
       "<div>\n",
       "<table border=\"1\" class=\"dataframe\">\n",
       "  <thead>\n",
       "    <tr style=\"text-align: right;\">\n",
       "      <th></th>\n",
       "      <th></th>\n",
       "      <th>count</th>\n",
       "    </tr>\n",
       "    <tr>\n",
       "      <th>race</th>\n",
       "      <th>sex</th>\n",
       "      <th></th>\n",
       "    </tr>\n",
       "  </thead>\n",
       "  <tbody>\n",
       "    <tr>\n",
       "      <th rowspan=\"2\" valign=\"top\">Asian/Pacific Islander</th>\n",
       "      <th>F</th>\n",
       "      <td>138</td>\n",
       "    </tr>\n",
       "    <tr>\n",
       "      <th>M</th>\n",
       "      <td>389</td>\n",
       "    </tr>\n",
       "    <tr>\n",
       "      <th rowspan=\"2\" valign=\"top\">Black</th>\n",
       "      <th>F</th>\n",
       "      <td>1876</td>\n",
       "    </tr>\n",
       "    <tr>\n",
       "      <th>M</th>\n",
       "      <td>17269</td>\n",
       "    </tr>\n",
       "    <tr>\n",
       "      <th rowspan=\"2\" valign=\"top\">Hispanic</th>\n",
       "      <th>F</th>\n",
       "      <td>684</td>\n",
       "    </tr>\n",
       "    <tr>\n",
       "      <th>M</th>\n",
       "      <td>4664</td>\n",
       "    </tr>\n",
       "    <tr>\n",
       "      <th rowspan=\"2\" valign=\"top\">Native American/Native Alaskan</th>\n",
       "      <th>F</th>\n",
       "      <td>59</td>\n",
       "    </tr>\n",
       "    <tr>\n",
       "      <th>M</th>\n",
       "      <td>241</td>\n",
       "    </tr>\n",
       "    <tr>\n",
       "      <th rowspan=\"2\" valign=\"top\">White</th>\n",
       "      <th>F</th>\n",
       "      <td>2536</td>\n",
       "    </tr>\n",
       "    <tr>\n",
       "      <th>M</th>\n",
       "      <td>5894</td>\n",
       "    </tr>\n",
       "  </tbody>\n",
       "</table>\n",
       "</div>"
      ],
      "text/plain": [
       "                                    count\n",
       "race                           sex       \n",
       "Asian/Pacific Islander         F      138\n",
       "                               M      389\n",
       "Black                          F     1876\n",
       "                               M    17269\n",
       "Hispanic                       F      684\n",
       "                               M     4664\n",
       "Native American/Native Alaskan F       59\n",
       "                               M      241\n",
       "White                          F     2536\n",
       "                               M     5894"
      ]
     },
     "execution_count": 125,
     "metadata": {},
     "output_type": "execute_result"
    }
   ],
   "source": [
    "df_sex_race_homicide = cleaned_data[cleaned_data[\"intent\"] == 'Homicide'].groupby([\"race\", \"sex\"]).agg({\"race\": \"count\"})\n",
    "df_sex_race_homicide.columns = [\"count\"]\n",
    "df_sex_race_homicide"
   ]
  },
  {
   "cell_type": "code",
   "execution_count": 130,
   "metadata": {
    "collapsed": false
   },
   "outputs": [
    {
     "data": {
      "image/png": "[encoded data removed]",
      "text/plain": [
       "<matplotlib.figure.Figure at 0x117544198>"
      ]
     },
     "metadata": {},
     "output_type": "display_data"
    }
   ],
   "source": [
    "# Let's visualise the table above\n",
    "multi_index = list(df_sex_race_homicide.index)\n",
    "female_counts_homicide = []\n",
    "male_counts_homicide = []\n",
    "for i, race in enumerate(unique_race):\n",
    "    female_counts_homicide.append(df_sex_race_homicide.loc[race, \"F\"].values[0])\n",
    "    male_counts_homicide.append(df_sex_race_homicide.loc[race, \"M\"].values[0])\n",
    "\n",
    "female_counts_homicide_norm = list(pd.Series(female_counts_homicide) * 100000 / pd.Series(race_counts))\n",
    "male_counts_homicide_norm = list(pd.Series(male_counts_homicide) * 100000 / pd.Series(race_counts))\n",
    "    \n",
    "x_vals = pd.Series(range(0, len(unique_race)))\n",
    "bar_width = 0.35\n",
    "\n",
    "fig, ax = plt.subplots()\n",
    "rects1 = ax.bar(x_vals, male_counts_homicide_norm, bar_width)\n",
    "rects2 = ax.bar(x_vals + bar_width, female_counts_homicide_norm, bar_width, color='pink')\n",
    "ax.set_xlim(0, 4.8)\n",
    "ax.set_xticks(x_vals + bar_width)\n",
    "ax.set_title(\"U.S. Homicide Gun Deaths by Race ({}-{})\".format(min(years), max(years)))\n",
    "ax.set_xticklabels(['Asian', 'Black', 'Hispanic', 'Native Amer.', 'White'], rotation=0)\n",
    "ax.legend((rects1[0], rects2[0]), ('Men', 'Women'), loc='upper right')\n",
    "ax.set_ylabel(\"Deaths / 100,000 persons\")\n",
    "plt.show()"
   ]
  },
  {
   "cell_type": "markdown",
   "metadata": {},
   "source": [
    "Let us look at Suicides:"
   ]
  },
  {
   "cell_type": "code",
   "execution_count": 131,
   "metadata": {
    "collapsed": false
   },
   "outputs": [
    {
     "data": {
      "text/html": [
       "<div>\n",
       "<table border=\"1\" class=\"dataframe\">\n",
       "  <thead>\n",
       "    <tr style=\"text-align: right;\">\n",
       "      <th></th>\n",
       "      <th></th>\n",
       "      <th>count</th>\n",
       "    </tr>\n",
       "    <tr>\n",
       "      <th>race</th>\n",
       "      <th>sex</th>\n",
       "      <th></th>\n",
       "    </tr>\n",
       "  </thead>\n",
       "  <tbody>\n",
       "    <tr>\n",
       "      <th rowspan=\"2\" valign=\"top\">Asian/Pacific Islander</th>\n",
       "      <th>F</th>\n",
       "      <td>99</td>\n",
       "    </tr>\n",
       "    <tr>\n",
       "      <th>M</th>\n",
       "      <td>646</td>\n",
       "    </tr>\n",
       "    <tr>\n",
       "      <th rowspan=\"2\" valign=\"top\">Black</th>\n",
       "      <th>F</th>\n",
       "      <td>364</td>\n",
       "    </tr>\n",
       "    <tr>\n",
       "      <th>M</th>\n",
       "      <td>2967</td>\n",
       "    </tr>\n",
       "    <tr>\n",
       "      <th rowspan=\"2\" valign=\"top\">Hispanic</th>\n",
       "      <th>F</th>\n",
       "      <td>347</td>\n",
       "    </tr>\n",
       "    <tr>\n",
       "      <th>M</th>\n",
       "      <td>2822</td>\n",
       "    </tr>\n",
       "    <tr>\n",
       "      <th rowspan=\"2\" valign=\"top\">Native American/Native Alaskan</th>\n",
       "      <th>F</th>\n",
       "      <td>62</td>\n",
       "    </tr>\n",
       "    <tr>\n",
       "      <th>M</th>\n",
       "      <td>492</td>\n",
       "    </tr>\n",
       "    <tr>\n",
       "      <th rowspan=\"2\" valign=\"top\">White</th>\n",
       "      <th>F</th>\n",
       "      <td>7815</td>\n",
       "    </tr>\n",
       "    <tr>\n",
       "      <th>M</th>\n",
       "      <td>47548</td>\n",
       "    </tr>\n",
       "  </tbody>\n",
       "</table>\n",
       "</div>"
      ],
      "text/plain": [
       "                                    count\n",
       "race                           sex       \n",
       "Asian/Pacific Islander         F       99\n",
       "                               M      646\n",
       "Black                          F      364\n",
       "                               M     2967\n",
       "Hispanic                       F      347\n",
       "                               M     2822\n",
       "Native American/Native Alaskan F       62\n",
       "                               M      492\n",
       "White                          F     7815\n",
       "                               M    47548"
      ]
     },
     "execution_count": 131,
     "metadata": {},
     "output_type": "execute_result"
    }
   ],
   "source": [
    "df_sex_race_suicide = cleaned_data[cleaned_data[\"intent\"] == 'Suicide'].groupby([\"race\", \"sex\"]).agg({\"race\": \"count\"})\n",
    "df_sex_race_suicide.columns = [\"count\"]\n",
    "df_sex_race_suicide"
   ]
  },
  {
   "cell_type": "code",
   "execution_count": 133,
   "metadata": {
    "collapsed": false
   },
   "outputs": [
    {
     "data": {
      "image/png": "[encoded data removed]",
      "text/plain": [
       "<matplotlib.figure.Figure at 0x11d477cc0>"
      ]
     },
     "metadata": {},
     "output_type": "display_data"
    }
   ],
   "source": [
    "# Let's visualise the table above\n",
    "multi_index = list(df_sex_race_suicide.index)\n",
    "female_counts_suicide = []\n",
    "male_counts_suicide = []\n",
    "for i, race in enumerate(unique_race):\n",
    "    female_counts_suicide.append(df_sex_race_suicide.loc[race, \"F\"].values[0])\n",
    "    male_counts_suicide.append(df_sex_race_suicide.loc[race, \"M\"].values[0])\n",
    "\n",
    "female_counts_suicide_norm = list(pd.Series(female_counts_suicide) * 100000 / pd.Series(race_counts))\n",
    "male_counts_suicide_norm = list(pd.Series(male_counts_suicide) * 100000 / pd.Series(race_counts))\n",
    "    \n",
    "x_vals = pd.Series(range(0, len(unique_race)))\n",
    "bar_width = 0.35\n",
    "\n",
    "fig, ax = plt.subplots()\n",
    "rects1 = ax.bar(x_vals, male_counts_suicide_norm, bar_width)\n",
    "rects2 = ax.bar(x_vals + bar_width, female_counts_suicide_norm, bar_width, color='pink')\n",
    "ax.set_xlim(0, 4.8)\n",
    "ax.set_xticks(x_vals + bar_width)\n",
    "ax.set_title(\"U.S. Suicide Gun Deaths by Race ({}-{})\".format(min(years), max(years)))\n",
    "ax.set_xticklabels(['Asian', 'Black', 'Hispanic', 'Native Amer.', 'White'], rotation=0)\n",
    "ax.legend((rects1[0], rects2[0]), ('Men', 'Women'), loc='upper left')\n",
    "ax.set_ylabel(\"Deaths / 100,000 persons\")\n",
    "plt.show()"
   ]
  },
  {
   "cell_type": "markdown",
   "metadata": {},
   "source": [
    "# Conclusion\n",
    "\n",
    "In this project we have looked at various aspects of Gun Deaths in the U.S.\n",
    "\n",
    "We found that amongst the races described in the census, African Americans have the highest Gun Death Rate.\n",
    "\n",
    "The White group has the second highest Gun Death Rate and the Asian group the lowest.\n",
    "\n",
    "Furthermore, when we looked at Homicides alone, we found that African Americans suffer the most Gun Deaths due to Homicide. The White group and Asians suffer the least deaths due to homicides.\n",
    "\n",
    "The white group suffered the most Gun Deaths due to Suicide.\n",
    "\n",
    "The facets of Gun Death that surfaced in this analysis, perhaps, deserve a pause for thought on which races are the most harmed by the presence of guns.\n",
    "\n",
    "This is just a learning project. Feedback/criticism/suggestions are welcome."
   ]
  }
 ],
 "metadata": {
  "anaconda-cloud": {},
  "kernelspec": {
   "display_name": "Python [default]",
   "language": "python",
   "name": "python3"
  },
  "language_info": {
   "codemirror_mode": {
    "name": "ipython",
    "version": 3
   },
   "file_extension": ".py",
   "mimetype": "text/x-python",
   "name": "python",
   "nbconvert_exporter": "python",
   "pygments_lexer": "ipython3",
   "version": "3.5.2"
  }
 },
 "nbformat": 4,
 "nbformat_minor": 0
}
